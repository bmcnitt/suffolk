{
 "cells": [
  {
   "cell_type": "markdown",
   "metadata": {},
   "source": [
    "# Brian McNitt - EC-450 - HW2"
   ]
  },
  {
   "cell_type": "code",
   "execution_count": 1,
   "metadata": {},
   "outputs": [
    {
     "name": "stderr",
     "output_type": "stream",
     "text": [
      "C:\\Users\\Brian\\Anaconda3\\lib\\site-packages\\statsmodels\\compat\\pandas.py:56: FutureWarning: The pandas.core.datetools module is deprecated and will be removed in a future version. Please use the pandas.tseries module instead.\n",
      "  from pandas.core import datetools\n"
     ]
    }
   ],
   "source": [
    "\n",
    "## Import Packages\n",
    "import statsmodels.stats.api as sms\n",
    "from scipy import stats\n",
    "import numpy as np\n",
    "import pandas as pd"
   ]
  },
  {
   "cell_type": "code",
   "execution_count": 2,
   "metadata": {},
   "outputs": [],
   "source": [
    "df = pd.read_excel(r'C:\\Users\\Brian\\Documents\\EC450\\HW1\\Data for HW1.xlsx')"
   ]
  },
  {
   "cell_type": "markdown",
   "metadata": {},
   "source": [
    "## Question 1"
   ]
  },
  {
   "cell_type": "markdown",
   "metadata": {},
   "source": [
    "#### Part A: For a 95% confidence interval, what are the lower and upper limits for SmallCaps’s average return?"
   ]
  },
  {
   "cell_type": "code",
   "execution_count": 27,
   "metadata": {},
   "outputs": [
    {
     "data": {
      "text/plain": [
       "(11.962753427952046, 35.66474657204796)"
      ]
     },
     "execution_count": 27,
     "metadata": {},
     "output_type": "execute_result"
    }
   ],
   "source": [
    "sms.DescrStatsW(df['SmallCaps']).tconfint_mean(alpha=.05) ## \n",
    "\n",
    "## prints lower and upper bound"
   ]
  },
  {
   "cell_type": "markdown",
   "metadata": {},
   "source": [
    "#### Part B: State the competing hypotheses to determine whether SmallCaps’s average return differs from 20%."
   ]
  },
  {
   "cell_type": "markdown",
   "metadata": {},
   "source": [
    "For a 95% confidence interval, the lower bound for SmallCaps is ~11.96 and the upper bound is ~35.66.\n",
    "\n",
    "Null Hypothesis: The SmallCap's average return is equal to 20%.\n",
    "\n",
    "Alternative Hypthesis: The SmallCap's average return is not equal to 20%."
   ]
  },
  {
   "cell_type": "markdown",
   "metadata": {},
   "source": [
    "#### Part C: At the 5% significance level, what is the conclusion to the hypothesis test?  Does SmallCaps’s average return differ from 20%?"
   ]
  },
  {
   "cell_type": "code",
   "execution_count": 3,
   "metadata": {},
   "outputs": [
    {
     "name": "stdout",
     "output_type": "stream",
     "text": [
      "For our t test, our t statistic is  0.6509188841403294\n",
      "Our P Value for a 1 tailed test is 0.51891580612067\n"
     ]
    }
   ],
   "source": [
    "tstat, pvalue = stats.ttest_1samp(df['SmallCaps'], 20)\n",
    "print(\"For our t test, our t statistic is \",tstat)\n",
    "print(\"Our P Value for a 1 tailed test is\", pvalue)"
   ]
  },
  {
   "cell_type": "markdown",
   "metadata": {},
   "source": [
    "P Value > Alpha\n",
    "\n",
    ".52 > .05\n",
    "\n",
    "At the 5% significance level, we fail to reject the null hypothesis. We cannot conclude the the SmallCap's average return is not equal to 20."
   ]
  },
  {
   "cell_type": "markdown",
   "metadata": {},
   "source": [
    "#### Please See attached documents at the end for question 1: D, E"
   ]
  },
  {
   "cell_type": "markdown",
   "metadata": {},
   "source": [
    "## Question 2"
   ]
  },
  {
   "cell_type": "markdown",
   "metadata": {},
   "source": [
    "#### Part A: State the competing hypotheses to determine whether LargeCaps’s average return is less than 15%."
   ]
  },
  {
   "cell_type": "markdown",
   "metadata": {},
   "source": [
    "Null Hypothesis: The LargeCap's average return is greater than or equal to 15%.\n",
    "\n",
    "Alternative Hypthesis: The LargeCap's average return is less than to 15%.\n",
    "\n",
    "LargeCaps - 15 = diff\n",
    "\n",
    "Given p value and t statistic from a **two-tailed test**, you would reject the null hypthesis of a *greater-than equal to test* when [p value/2 < alpha] and [t statistic > 0]. \n",
    "\n",
    "\n",
    "Given p value and t statistic from a **two-tailed test**, you would reject the null hypthesis of a *less-than equal to test* when [p value/2 < alpha] and [t statistic < 0]. "
   ]
  },
  {
   "cell_type": "markdown",
   "metadata": {},
   "source": [
    "#### Part B: At the 5% significance level, what is the conclusion to the hypothesis test?  Is LargeCaps’s average return less than 15%?"
   ]
  },
  {
   "cell_type": "code",
   "execution_count": 4,
   "metadata": {},
   "outputs": [
    {
     "name": "stdout",
     "output_type": "stream",
     "text": [
      "For our t test, our t statistic is  -1.4121683456862542\n",
      "Our P Value for a 1 tailed test is 0.08291520435654899\n"
     ]
    }
   ],
   "source": [
    "tstat, pvalue = stats.ttest_1samp(df['LargeCaps'], 15)\n",
    "print(\"For our t test, our t statistic is \",tstat)\n",
    "print(\"Our P Value for a 1 tailed test is\", pvalue / 2)"
   ]
  },
  {
   "cell_type": "markdown",
   "metadata": {},
   "source": [
    "At the 5% significance level, we fail to reject the null hypothesis. We cannot conclude the the SmallCap's average return is less than 15."
   ]
  },
  {
   "cell_type": "markdown",
   "metadata": {},
   "source": [
    "#### Please see attached documents at the end for question 2: C, D"
   ]
  },
  {
   "cell_type": "markdown",
   "metadata": {},
   "source": [
    "## Question 3"
   ]
  },
  {
   "cell_type": "markdown",
   "metadata": {},
   "source": [
    "#### Part A: State the competing hypotheses to determine whether SmallCaps’s average return is greater than LargeCaps’s average return"
   ]
  },
  {
   "cell_type": "markdown",
   "metadata": {},
   "source": [
    "Null Hypothesis: SmallCap's average return is less than or equal to LargeCap's average return.\n",
    "\n",
    "Alternative Hypthesis: SmallCap's average return is greater than LargeCap's Return"
   ]
  },
  {
   "cell_type": "markdown",
   "metadata": {},
   "source": [
    "#### Part B: At the 5% significance level, can you conclude that SmallCaps’s average return is greater than LargeCaps’s average return?  "
   ]
  },
  {
   "cell_type": "code",
   "execution_count": 5,
   "metadata": {},
   "outputs": [
    {
     "name": "stdout",
     "output_type": "stream",
     "text": [
      "For our t test, our t statistic is  1.987475788999216\n",
      "Our P Value for a 1 tailed test is 0.025764722030123876\n"
     ]
    }
   ],
   "source": [
    "tstat, pvalue = stats.ttest_ind(a=df['SmallCaps'], b=df['LargeCaps'], equal_var = False)\n",
    "print(\"For our t test, our t statistic is \",tstat)\n",
    "print(\"Our P Value for a 1 tailed test is\", pvalue / 2)"
   ]
  },
  {
   "cell_type": "markdown",
   "metadata": {},
   "source": [
    "pvalue < Alpha\n",
    "\n",
    "tstat > 0 \n",
    "\n",
    "**here order matters. I assign 'a' to SmallCaps and 'b' to LargeCaps. diff = a - b **\n",
    "\n",
    "At the 5% significance level, we reject the null hypthesis. We conclude the the SmallCap's average return is greater than the LargeCap's Average Return. \n",
    "\n",
    "Note that I use a Welch test because of Unequal variance and not Satterthwaite (which is default on Stata). Results are very similiar, so I stick with Welch.\n"
   ]
  },
  {
   "cell_type": "markdown",
   "metadata": {},
   "source": [
    "## Question 4"
   ]
  },
  {
   "cell_type": "markdown",
   "metadata": {},
   "source": [
    "#### Please see document attached at end for question 4"
   ]
  }
 ],
 "metadata": {
  "kernelspec": {
   "display_name": "Python 3",
   "language": "python",
   "name": "python3"
  },
  "language_info": {
   "codemirror_mode": {
    "name": "ipython",
    "version": 3
   },
   "file_extension": ".py",
   "mimetype": "text/x-python",
   "name": "python",
   "nbconvert_exporter": "python",
   "pygments_lexer": "ipython3",
   "version": "3.6.4"
  }
 },
 "nbformat": 4,
 "nbformat_minor": 2
}
